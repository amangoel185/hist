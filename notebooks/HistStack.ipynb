{
 "cells": [
  {
   "cell_type": "markdown",
   "id": "0ada0219-170a-418a-a6a5-b241b9b9fe42",
   "metadata": {},
   "source": [
    "# HistStack"
   ]
  },
  {
   "cell_type": "code",
   "execution_count": 1,
   "id": "6ed3ec2c-9d11-4c69-b7ce-0365079b22ff",
   "metadata": {},
   "outputs": [
    {
     "data": {
      "text/plain": [
       "[[StairsArtists(stairs=<matplotlib.patches.StepPatch object at 0x17edca400>, errorbar=<ErrorbarContainer object of 3 artists>, legend_artist=<ErrorbarContainer object of 3 artists>)],\n",
       " [StairsArtists(stairs=<matplotlib.patches.StepPatch object at 0x17ee10160>, errorbar=<ErrorbarContainer object of 3 artists>, legend_artist=<ErrorbarContainer object of 3 artists>)],\n",
       " [StairsArtists(stairs=<matplotlib.patches.StepPatch object at 0x17ee24e50>, errorbar=<ErrorbarContainer object of 3 artists>, legend_artist=<ErrorbarContainer object of 3 artists>)]]"
      ]
     },
     "execution_count": 1,
     "metadata": {},
     "output_type": "execute_result"
    },
    {
     "data": {
      "image/png": "[encoded data removed]",
      "text/plain": [
       "<Figure size 432x288 with 1 Axes>"
      ]
     },
     "metadata": {
      "needs_background": "light"
     },
     "output_type": "display_data"
    }
   ],
   "source": [
    "from hist import Hist, Stack, axis\n",
    "import numpy as np\n",
    "\n",
    "h1 = Hist(\n",
    "    axis.Regular(\n",
    "        50, -5, 5, name=\"A\", label=\"a [units]\", underflow=False, overflow=False\n",
    "    )\n",
    ").fill(2 * np.random.normal(size=500) + 3 * np.ones((500,)))\n",
    "\n",
    "h2 = Hist(\n",
    "    axis.Regular(\n",
    "        50, -10, 10, name=\"B\", label=\"b [units]\", underflow=False, overflow=False\n",
    "    )\n",
    ").fill(2 * np.random.normal(size=1000) + 3 * np.ones((1000,)))\n",
    "\n",
    "h3 = Hist(\n",
    "    axis.Regular(\n",
    "        50, -10, 10, name=\"C\", label=\"c [units]\", underflow=False, overflow=False\n",
    "    )\n",
    ").fill(4 * np.random.normal(size=800) - np.ones((800,)))\n",
    "\n",
    "Stack(h1, h2, h3).plot()"
   ]
  },
  {
   "cell_type": "code",
   "execution_count": 2,
   "id": "b497a5ab-f64e-4194-a3f9-e79203d27241",
   "metadata": {},
   "outputs": [
    {
     "ename": "ValueError",
     "evalue": "Histograms' axes types don't match",
     "output_type": "error",
     "traceback": [
      "\u001b[0;31m---------------------------------------------------------------------------\u001b[0m",
      "\u001b[0;31mValueError\u001b[0m                                Traceback (most recent call last)",
      "\u001b[0;32m<ipython-input-2-a21a6d757a02>\u001b[0m in \u001b[0;36m<module>\u001b[0;34m\u001b[0m\n\u001b[1;32m      5\u001b[0m ).fill(2 * np.random.normal(size=1000) + 3 * np.ones((1000,)))\n\u001b[1;32m      6\u001b[0m \u001b[0;34m\u001b[0m\u001b[0m\n\u001b[0;32m----> 7\u001b[0;31m \u001b[0mStack\u001b[0m\u001b[0;34m(\u001b[0m\u001b[0mh1\u001b[0m\u001b[0;34m,\u001b[0m \u001b[0mh2\u001b[0m\u001b[0;34m,\u001b[0m \u001b[0mh4\u001b[0m\u001b[0;34m)\u001b[0m\u001b[0;34m.\u001b[0m\u001b[0mplot\u001b[0m\u001b[0;34m(\u001b[0m\u001b[0;34m)\u001b[0m\u001b[0;34m\u001b[0m\u001b[0;34m\u001b[0m\u001b[0m\n\u001b[0m",
      "\u001b[0;32m~/Documents/GitHub/hist/src/hist/stacks.py\u001b[0m in \u001b[0;36m__init__\u001b[0;34m(self, *args)\u001b[0m\n\u001b[1;32m     25\u001b[0m                 \u001b[0;32mraise\u001b[0m \u001b[0mValueError\u001b[0m\u001b[0;34m(\u001b[0m\u001b[0;34m\"Histograms' dimensions don't match\"\u001b[0m\u001b[0;34m)\u001b[0m\u001b[0;34m\u001b[0m\u001b[0;34m\u001b[0m\u001b[0m\n\u001b[1;32m     26\u001b[0m             \u001b[0;32mif\u001b[0m \u001b[0maxestypes\u001b[0m \u001b[0;34m!=\u001b[0m \u001b[0mset\u001b[0m\u001b[0;34m(\u001b[0m\u001b[0mmap\u001b[0m\u001b[0;34m(\u001b[0m\u001b[0mtype\u001b[0m\u001b[0;34m,\u001b[0m \u001b[0ma\u001b[0m\u001b[0;34m.\u001b[0m\u001b[0maxes\u001b[0m\u001b[0;34m)\u001b[0m\u001b[0;34m)\u001b[0m\u001b[0;34m:\u001b[0m\u001b[0;34m\u001b[0m\u001b[0;34m\u001b[0m\u001b[0m\n\u001b[0;32m---> 27\u001b[0;31m                 \u001b[0;32mraise\u001b[0m \u001b[0mValueError\u001b[0m\u001b[0;34m(\u001b[0m\u001b[0;34m\"Histograms' axes types don't match\"\u001b[0m\u001b[0;34m)\u001b[0m\u001b[0;34m\u001b[0m\u001b[0;34m\u001b[0m\u001b[0m\n\u001b[0m\u001b[1;32m     28\u001b[0m         \u001b[0mself\u001b[0m\u001b[0;34m.\u001b[0m\u001b[0m_stack\u001b[0m \u001b[0;34m=\u001b[0m \u001b[0;34m[\u001b[0m\u001b[0;34m*\u001b[0m\u001b[0margs\u001b[0m\u001b[0;34m]\u001b[0m\u001b[0;34m\u001b[0m\u001b[0;34m\u001b[0m\u001b[0m\n\u001b[1;32m     29\u001b[0m         \u001b[0mself\u001b[0m\u001b[0;34m.\u001b[0m\u001b[0m_stack_len\u001b[0m \u001b[0;34m=\u001b[0m \u001b[0mlen\u001b[0m\u001b[0;34m(\u001b[0m\u001b[0margs\u001b[0m\u001b[0;34m)\u001b[0m\u001b[0;34m\u001b[0m\u001b[0;34m\u001b[0m\u001b[0m\n",
      "\u001b[0;31mValueError\u001b[0m: Histograms' axes types don't match"
     ]
    }
   ],
   "source": [
    "h4 = Hist(\n",
    "    axis.Integer(-10, 10, name=\"D\", label=\"d [units]\", underflow=False, overflow=False)\n",
    ").fill(2 * np.random.normal(size=1000) + 3 * np.ones((1000,)))\n",
    "\n",
    "Stack(h1, h2, h4).plot()"
   ]
  }
 ],
 "metadata": {
  "kernelspec": {
   "display_name": "hist",
   "language": "python",
   "name": "hist"
  },
  "language_info": {
   "codemirror_mode": {
    "name": "ipython",
    "version": 3
   },
   "file_extension": ".py",
   "mimetype": "text/x-python",
   "name": "python",
   "nbconvert_exporter": "python",
   "pygments_lexer": "ipython3",
   "version": "3.9.4"
  }
 },
 "nbformat": 4,
 "nbformat_minor": 5
}
