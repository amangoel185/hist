{
 "cells": [
  {
   "cell_type": "markdown",
   "id": "0ada0219-170a-418a-a6a5-b241b9b9fe42",
   "metadata": {},
   "source": [
    "# HistStack"
   ]
  },
  {
   "cell_type": "code",
   "execution_count": 12,
   "id": "6ed3ec2c-9d11-4c69-b7ce-0365079b22ff",
   "metadata": {},
   "outputs": [
    {
     "data": {
      "text/plain": [
       "[[StairsArtists(stairs=<matplotlib.patches.StepPatch object at 0x17ab006a0>, errorbar=<ErrorbarContainer object of 3 artists>, legend_artist=<ErrorbarContainer object of 3 artists>)],\n",
       " [StairsArtists(stairs=<matplotlib.patches.StepPatch object at 0x17ab2c3d0>, errorbar=<ErrorbarContainer object of 3 artists>, legend_artist=<ErrorbarContainer object of 3 artists>)],\n",
       " [StairsArtists(stairs=<matplotlib.patches.StepPatch object at 0x17ab52100>, errorbar=<ErrorbarContainer object of 3 artists>, legend_artist=<ErrorbarContainer object of 3 artists>)]]"
      ]
     },
     "execution_count": 12,
     "metadata": {},
     "output_type": "execute_result"
    },
    {
     "data": {
      "image/png": "[encoded data removed]",
      "text/plain": [
       "<Figure size 432x288 with 1 Axes>"
      ]
     },
     "metadata": {
      "needs_background": "light"
     },
     "output_type": "display_data"
    }
   ],
   "source": [
    "from hist import Hist, Stack, axis\n",
    "import numpy as np\n",
    "\n",
    "h1 = Hist(\n",
    "    axis.Regular(\n",
    "        50, -5, 5, name=\"A\", label=\"a [units]\", underflow=False, overflow=False\n",
    "    )\n",
    ").fill(2 * np.random.normal(size=500) + 3 * np.ones((500,)))\n",
    "\n",
    "h2 = Hist(\n",
    "    axis.Regular(\n",
    "        50, -10, 10, name=\"B\", label=\"a [units]\", underflow=False, overflow=False\n",
    "    )\n",
    ").fill(2 * np.random.normal(size=1000) + 3 * np.ones((1000,)))\n",
    "\n",
    "h3 = Hist(\n",
    "    axis.Regular(\n",
    "        50, -10, 10, name=\"C\", label=\"a [units]\", underflow=False, overflow=False\n",
    "    )\n",
    ").fill(4 * np.random.normal(size=800) - np.ones((800,)))\n",
    "\n",
    "Stack(h1, h2, h3).plot()"
   ]
  }
 ],
 "metadata": {
  "kernelspec": {
   "display_name": "hist",
   "language": "python",
   "name": "hist"
  },
  "language_info": {
   "codemirror_mode": {
    "name": "ipython",
    "version": 3
   },
   "file_extension": ".py",
   "mimetype": "text/x-python",
   "name": "python",
   "nbconvert_exporter": "python",
   "pygments_lexer": "ipython3",
   "version": "3.9.4"
  }
 },
 "nbformat": 4,
 "nbformat_minor": 5
}
